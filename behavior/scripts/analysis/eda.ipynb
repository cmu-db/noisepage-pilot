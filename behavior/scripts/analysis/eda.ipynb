{
 "cells": [
  {
   "cell_type": "markdown",
   "id": "2689fbcb-9c6f-4f0f-82ec-4fb04ab6b261",
   "metadata": {},
   "source": [
    "# TPCC OU Data Collection"
   ]
  },
  {
   "cell_type": "code",
   "execution_count": 1,
   "id": "2c1aaa86-27ab-420a-addb-9c6667077820",
   "metadata": {},
   "outputs": [],
   "source": [
    "import os\n",
    "import pandas as pd\n",
    "import seaborn as sns\n",
    "import matplotlib.pyplot as plt\n",
    "import numpy as np\n",
    "from sklearn.decomposition import PCA\n",
    "import lightgbm as lgb\n",
    "from datetime import datetime\n",
    "from pathlib import Path\n",
    "from scipy import stats"
   ]
  },
  {
   "cell_type": "code",
   "execution_count": 6,
   "id": "c45f5ad8-2074-458f-87e2-707e8f820ec7",
   "metadata": {},
   "outputs": [
    {
     "data": {
      "text/plain": [
       "PosixPath('/home/glhess/postgres/cmudb/tscout/results/tpcc-sqlsmith')"
      ]
     },
     "execution_count": 6,
     "metadata": {},
     "output_type": "execute_result"
    }
   ],
   "source": [
    "sqlsmith = True\n",
    "BENCHMARK_NAME = f\"tpcc-{'sqlsmith' if sqlsmith else 'default'}\"\n",
    "results_dir = Path.home() / \"postgres/cmudb/tscout/results/\" / BENCHMARK_NAME\n",
    "results_dir"
   ]
  },
  {
   "cell_type": "code",
   "execution_count": 13,
   "id": "8295fc75-d6ff-4cbd-aff4-7b291ebcf9df",
   "metadata": {},
   "outputs": [
    {
     "name": "stdout",
     "output_type": "stream",
     "text": [
      "Experiments: [PosixPath('/home/glhess/postgres/cmudb/tscout/results/tpcc-sqlsmith/2021-11-18_00-14-15'), PosixPath('/home/glhess/postgres/cmudb/tscout/results/tpcc-sqlsmith/2021-11-18_00-25-21')]\n",
      "Latest experiment: /home/glhess/postgres/cmudb/tscout/results/tpcc-sqlsmith/2021-11-17_21-01-18\n"
     ]
    }
   ],
   "source": [
    "experiments = sorted(list(results_dir.glob(\"*\")))\n",
    "print(f\"Experiments: {experiments}\")\n",
    "latest_experiment = experiments[-1]\n",
    "result_filepaths = list(latest_experiment.glob(\"**/*.csv\"))\n",
    "print(f\"Latest experiment: {exp_dir}\")"
   ]
  },
  {
   "cell_type": "markdown",
   "id": "ffbece6f-d1c6-406a-b4c1-b8eb0522b300",
   "metadata": {
    "tags": []
   },
   "source": [
    "#### Load Data"
   ]
  },
  {
   "cell_type": "code",
   "execution_count": 14,
   "id": "9ddd0d10-c45d-4deb-8bc4-4eb9febaf1ee",
   "metadata": {},
   "outputs": [
    {
     "name": "stdout",
     "output_type": "stream",
     "text": [
      "Loading filepath: /home/glhess/postgres/cmudb/tscout/results/tpcc-sqlsmith/2021-11-18_00-25-21/0/ExecSeqScan.csv\n",
      "Loading filepath: /home/glhess/postgres/cmudb/tscout/results/tpcc-sqlsmith/2021-11-18_00-25-21/0/ExecHashJoinImpl.csv\n",
      "Loading filepath: /home/glhess/postgres/cmudb/tscout/results/tpcc-sqlsmith/2021-11-18_00-25-21/0/ExecResult.csv\n",
      "Loading filepath: /home/glhess/postgres/cmudb/tscout/results/tpcc-sqlsmith/2021-11-18_00-25-21/0/ExecModifyTable.csv\n",
      "Loading filepath: /home/glhess/postgres/cmudb/tscout/results/tpcc-sqlsmith/2021-11-18_00-25-21/0/ExecIndexScan.csv\n",
      "Loading filepath: /home/glhess/postgres/cmudb/tscout/results/tpcc-sqlsmith/2021-11-18_00-25-21/0/ExecAgg.csv\n",
      "Loading filepath: /home/glhess/postgres/cmudb/tscout/results/tpcc-sqlsmith/2021-11-18_00-25-21/0/ExecIndexOnlyScan.csv\n",
      "Loading filepath: /home/glhess/postgres/cmudb/tscout/results/tpcc-sqlsmith/2021-11-18_00-25-21/0/ExecSubqueryScan.csv\n",
      "Loading filepath: /home/glhess/postgres/cmudb/tscout/results/tpcc-sqlsmith/2021-11-18_00-25-21/0/ExecSubPlan.csv\n",
      "Loading filepath: /home/glhess/postgres/cmudb/tscout/results/tpcc-sqlsmith/2021-11-18_00-25-21/0/ExecWindowAgg.csv\n",
      "Loading filepath: /home/glhess/postgres/cmudb/tscout/results/tpcc-sqlsmith/2021-11-18_00-25-21/0/ExecIncrementalSort.csv\n",
      "Loading filepath: /home/glhess/postgres/cmudb/tscout/results/tpcc-sqlsmith/2021-11-18_00-25-21/0/ExecLimit.csv\n",
      "Loading filepath: /home/glhess/postgres/cmudb/tscout/results/tpcc-sqlsmith/2021-11-18_00-25-21/0/ExecSampleScan.csv\n",
      "Loading filepath: /home/glhess/postgres/cmudb/tscout/results/tpcc-sqlsmith/2021-11-18_00-25-21/0/ExecMaterial.csv\n",
      "Loading filepath: /home/glhess/postgres/cmudb/tscout/results/tpcc-sqlsmith/2021-11-18_00-25-21/0/ExecSort.csv\n",
      "Loading filepath: /home/glhess/postgres/cmudb/tscout/results/tpcc-sqlsmith/2021-11-18_00-25-21/0/ExecLockRows.csv\n",
      "Loading filepath: /home/glhess/postgres/cmudb/tscout/results/tpcc-sqlsmith/2021-11-18_00-25-21/0/ExecNestLoop.csv\n"
     ]
    }
   ],
   "source": [
    "ou_name_to_df = dict()\n",
    "run_id = 0\n",
    "\n",
    "for filepath in result_filepaths:\n",
    "    ou_name = filepath.stem\n",
    "    \n",
    "    if run_id != int(filepath.parent.stem): \n",
    "        continue\n",
    "    \n",
    "    if os.stat(filepath).st_size > 0:\n",
    "        print(f\"Loading filepath: {filepath}\")\n",
    "        ou_name_to_df[ou_name] = pd.read_csv(filepath)"
   ]
  },
  {
   "cell_type": "code",
   "execution_count": 15,
   "id": "865e3c5b-753c-4255-974c-ae32cb34dc61",
   "metadata": {},
   "outputs": [
    {
     "name": "stdout",
     "output_type": "stream",
     "text": [
      "OU Name: ExecSeqScan, ou_df shape: (12102, 36)\n",
      "OU Name: ExecHashJoinImpl, ou_df shape: (82, 44)\n",
      "OU Name: ExecResult, ou_df shape: (9289, 36)\n",
      "OU Name: ExecModifyTable, ou_df shape: (59364, 51)\n",
      "OU Name: ExecIndexScan, ou_df shape: (339549, 43)\n",
      "OU Name: ExecAgg, ou_df shape: (301, 64)\n",
      "OU Name: ExecIndexOnlyScan, ou_df shape: (37, 43)\n",
      "OU Name: ExecSubqueryScan, ou_df shape: (1232, 35)\n",
      "OU Name: ExecSubPlan, ou_df shape: (655196, 35)\n",
      "OU Name: ExecWindowAgg, ou_df shape: (2938, 85)\n",
      "OU Name: ExecIncrementalSort, ou_df shape: (29, 55)\n",
      "OU Name: ExecLimit, ou_df shape: (1150740, 42)\n",
      "OU Name: ExecSampleScan, ou_df shape: (1284, 42)\n",
      "OU Name: ExecMaterial, ou_df shape: (94, 36)\n",
      "OU Name: ExecSort, ou_df shape: (2311, 42)\n",
      "OU Name: ExecLockRows, ou_df shape: (48847, 36)\n",
      "OU Name: ExecNestLoop, ou_df shape: (824, 40)\n"
     ]
    }
   ],
   "source": [
    "for (ou_name, ou_df) in ou_name_to_df.items():\n",
    "    print(f\"OU Name: {ou_name}, ou_df shape: {ou_df.shape}\")"
   ]
  },
  {
   "cell_type": "code",
   "execution_count": 16,
   "id": "d676f83b-ef0d-4994-9818-48a4b245bfea",
   "metadata": {},
   "outputs": [
    {
     "data": {
      "text/plain": [
       "dict_keys(['ExecSeqScan', 'ExecHashJoinImpl', 'ExecResult', 'ExecModifyTable', 'ExecIndexScan', 'ExecAgg', 'ExecIndexOnlyScan', 'ExecSubqueryScan', 'ExecSubPlan', 'ExecWindowAgg', 'ExecIncrementalSort', 'ExecLimit', 'ExecSampleScan', 'ExecMaterial', 'ExecSort', 'ExecLockRows', 'ExecNestLoop'])"
      ]
     },
     "execution_count": 16,
     "metadata": {},
     "output_type": "execute_result"
    }
   ],
   "source": [
    "ou_name_to_df.keys()"
   ]
  },
  {
   "cell_type": "markdown",
   "id": "3d119162-b677-4be6-b0ce-7ddab4ad00cc",
   "metadata": {
    "tags": []
   },
   "source": [
    "# Pre-processing"
   ]
  },
  {
   "cell_type": "markdown",
   "id": "b44449e9-3c0b-480a-bd84-4650ccc06b9c",
   "metadata": {
    "tags": []
   },
   "source": [
    "#### Get IndexScan OU Data"
   ]
  },
  {
   "cell_type": "code",
   "execution_count": 17,
   "id": "fd099c45-c6fb-4e93-80e5-4474e220c504",
   "metadata": {},
   "outputs": [],
   "source": [
    "target_ou = 'ExecNestLoop'\n",
    "df = ou_name_to_df[target_ou]"
   ]
  },
  {
   "cell_type": "markdown",
   "id": "8b0fc44d-808c-4493-98a6-2891e50428de",
   "metadata": {},
   "source": [
    "### Remove Start/End Time (since elapsed_us == end_time - start_time)"
   ]
  },
  {
   "cell_type": "code",
   "execution_count": 18,
   "id": "62b6f37a-fee1-449d-9f8c-88d30b761a16",
   "metadata": {},
   "outputs": [],
   "source": [
    "cols_to_remove = ['start_time', 'end_time', 'cpu_id', 'query_id']\n",
    "df = df.drop(cols_to_remove, axis=1)"
   ]
  },
  {
   "cell_type": "markdown",
   "id": "97fd7b35-c407-488b-a50c-f5bef214ff31",
   "metadata": {},
   "source": [
    "#### Remove constant columns"
   ]
  },
  {
   "cell_type": "code",
   "execution_count": 19,
   "id": "c0c679e2-fec8-40b1-803d-1ecd8a10944d",
   "metadata": {},
   "outputs": [
    {
     "name": "stdout",
     "output_type": "stream",
     "text": [
      "Dropped zero-variance columns: ['NestLoopState_js_ps_type', 'NestLoopState_js_ps_async_capable', 'NestLoopState_js_ps_scanopsfixed', 'NestLoopState_js_ps_outeropsfixed', 'NestLoopState_js_ps_inneropsfixed', 'NestLoopState_js_ps_resultopsfixed', 'NestLoopState_js_ps_scanopsset', 'NestLoopState_js_ps_outeropsset', 'NestLoopState_js_ps_inneropsset', 'NestLoopState_js_ps_resultopsset', 'NestLoop_join_plan_type', 'NestLoop_join_plan_parallel_aware', 'NestLoop_join_plan_async_capable', 'network_bytes_read', 'network_bytes_written', 'disk_bytes_read', 'memory_bytes']\n",
      "Num Remaining: 19, Num Removed 17\n"
     ]
    }
   ],
   "source": [
    "cols_to_remove = []\n",
    "for col in df.columns:\n",
    "    if df[col].nunique() == 1: \n",
    "            cols_to_remove.append(col)\n",
    "\n",
    "df = df.drop(cols_to_remove, axis=1)\n",
    "print(f\"Dropped zero-variance columns: {cols_to_remove}\")\n",
    "print(f\"Num Remaining: {len(df.columns)}, Num Removed {len(cols_to_remove)}\")"
   ]
  },
  {
   "cell_type": "markdown",
   "id": "4c2811c9-cfbf-4169-ae6b-4b02d3c558d1",
   "metadata": {
    "tags": []
   },
   "source": [
    "### Summarize Features"
   ]
  },
  {
   "cell_type": "code",
   "execution_count": 20,
   "id": "e67e26f9-5920-4385-9235-2131daa3f692",
   "metadata": {},
   "outputs": [
    {
     "data": {
      "text/html": [
       "<div>\n",
       "<style scoped>\n",
       "    .dataframe tbody tr th:only-of-type {\n",
       "        vertical-align: middle;\n",
       "    }\n",
       "\n",
       "    .dataframe tbody tr th {\n",
       "        vertical-align: top;\n",
       "    }\n",
       "\n",
       "    .dataframe thead th {\n",
       "        text-align: right;\n",
       "    }\n",
       "</style>\n",
       "<table border=\"1\" class=\"dataframe\">\n",
       "  <thead>\n",
       "    <tr style=\"text-align: right;\">\n",
       "      <th></th>\n",
       "      <th>NestLoopState_js_jointype</th>\n",
       "      <th>NestLoopState_js_single_match</th>\n",
       "      <th>NestLoopState_nl_NeedNewOuter</th>\n",
       "      <th>NestLoopState_nl_MatchedOuter</th>\n",
       "      <th>NestLoop_join_plan_startup_cost</th>\n",
       "      <th>NestLoop_join_plan_total_cost</th>\n",
       "      <th>NestLoop_join_plan_plan_rows</th>\n",
       "      <th>NestLoop_join_plan_plan_width</th>\n",
       "      <th>NestLoop_join_plan_parallel_safe</th>\n",
       "      <th>NestLoop_join_plan_plan_node_id</th>\n",
       "      <th>NestLoop_join_jointype</th>\n",
       "      <th>NestLoop_join_inner_unique</th>\n",
       "    </tr>\n",
       "  </thead>\n",
       "  <tbody>\n",
       "    <tr>\n",
       "      <th>count</th>\n",
       "      <td>824.000000</td>\n",
       "      <td>824.000000</td>\n",
       "      <td>824.000000</td>\n",
       "      <td>824.000000</td>\n",
       "      <td>8.240000e+02</td>\n",
       "      <td>8.240000e+02</td>\n",
       "      <td>8.240000e+02</td>\n",
       "      <td>824.000000</td>\n",
       "      <td>824.000000</td>\n",
       "      <td>824.000000</td>\n",
       "      <td>824.000000</td>\n",
       "      <td>824.000000</td>\n",
       "    </tr>\n",
       "    <tr>\n",
       "      <th>mean</th>\n",
       "      <td>0.643204</td>\n",
       "      <td>0.055825</td>\n",
       "      <td>0.962379</td>\n",
       "      <td>0.066748</td>\n",
       "      <td>2.549677e+05</td>\n",
       "      <td>3.855960e+09</td>\n",
       "      <td>2.562080e+11</td>\n",
       "      <td>55.515777</td>\n",
       "      <td>0.208738</td>\n",
       "      <td>1.930825</td>\n",
       "      <td>0.643204</td>\n",
       "      <td>0.002427</td>\n",
       "    </tr>\n",
       "    <tr>\n",
       "      <th>std</th>\n",
       "      <td>0.959130</td>\n",
       "      <td>0.229723</td>\n",
       "      <td>0.190394</td>\n",
       "      <td>0.249736</td>\n",
       "      <td>7.308229e+06</td>\n",
       "      <td>1.093610e+11</td>\n",
       "      <td>7.287677e+12</td>\n",
       "      <td>76.267068</td>\n",
       "      <td>0.406653</td>\n",
       "      <td>2.255022</td>\n",
       "      <td>0.959130</td>\n",
       "      <td>0.049237</td>\n",
       "    </tr>\n",
       "    <tr>\n",
       "      <th>min</th>\n",
       "      <td>0.000000</td>\n",
       "      <td>0.000000</td>\n",
       "      <td>0.000000</td>\n",
       "      <td>0.000000</td>\n",
       "      <td>0.000000e+00</td>\n",
       "      <td>2.000000e-02</td>\n",
       "      <td>1.000000e+00</td>\n",
       "      <td>0.000000</td>\n",
       "      <td>0.000000</td>\n",
       "      <td>0.000000</td>\n",
       "      <td>0.000000</td>\n",
       "      <td>0.000000</td>\n",
       "    </tr>\n",
       "    <tr>\n",
       "      <th>25%</th>\n",
       "      <td>0.000000</td>\n",
       "      <td>0.000000</td>\n",
       "      <td>1.000000</td>\n",
       "      <td>0.000000</td>\n",
       "      <td>0.000000e+00</td>\n",
       "      <td>4.051875e+00</td>\n",
       "      <td>1.000000e+00</td>\n",
       "      <td>8.000000</td>\n",
       "      <td>0.000000</td>\n",
       "      <td>1.000000</td>\n",
       "      <td>0.000000</td>\n",
       "      <td>0.000000</td>\n",
       "    </tr>\n",
       "    <tr>\n",
       "      <th>50%</th>\n",
       "      <td>0.000000</td>\n",
       "      <td>0.000000</td>\n",
       "      <td>1.000000</td>\n",
       "      <td>0.000000</td>\n",
       "      <td>0.000000e+00</td>\n",
       "      <td>4.653638e+02</td>\n",
       "      <td>2.200000e+01</td>\n",
       "      <td>29.000000</td>\n",
       "      <td>0.000000</td>\n",
       "      <td>1.000000</td>\n",
       "      <td>0.000000</td>\n",
       "      <td>0.000000</td>\n",
       "    </tr>\n",
       "    <tr>\n",
       "      <th>75%</th>\n",
       "      <td>1.000000</td>\n",
       "      <td>0.000000</td>\n",
       "      <td>1.000000</td>\n",
       "      <td>0.000000</td>\n",
       "      <td>8.405449e-02</td>\n",
       "      <td>3.461233e+03</td>\n",
       "      <td>6.814250e+03</td>\n",
       "      <td>75.000000</td>\n",
       "      <td>0.000000</td>\n",
       "      <td>3.000000</td>\n",
       "      <td>1.000000</td>\n",
       "      <td>0.000000</td>\n",
       "    </tr>\n",
       "    <tr>\n",
       "      <th>max</th>\n",
       "      <td>5.000000</td>\n",
       "      <td>1.000000</td>\n",
       "      <td>1.000000</td>\n",
       "      <td>1.000000</td>\n",
       "      <td>2.097860e+08</td>\n",
       "      <td>3.139138e+12</td>\n",
       "      <td>2.091900e+14</td>\n",
       "      <td>650.000000</td>\n",
       "      <td>1.000000</td>\n",
       "      <td>24.000000</td>\n",
       "      <td>5.000000</td>\n",
       "      <td>1.000000</td>\n",
       "    </tr>\n",
       "  </tbody>\n",
       "</table>\n",
       "</div>"
      ],
      "text/plain": [
       "       NestLoopState_js_jointype  NestLoopState_js_single_match  \\\n",
       "count                 824.000000                     824.000000   \n",
       "mean                    0.643204                       0.055825   \n",
       "std                     0.959130                       0.229723   \n",
       "min                     0.000000                       0.000000   \n",
       "25%                     0.000000                       0.000000   \n",
       "50%                     0.000000                       0.000000   \n",
       "75%                     1.000000                       0.000000   \n",
       "max                     5.000000                       1.000000   \n",
       "\n",
       "       NestLoopState_nl_NeedNewOuter  NestLoopState_nl_MatchedOuter  \\\n",
       "count                     824.000000                     824.000000   \n",
       "mean                        0.962379                       0.066748   \n",
       "std                         0.190394                       0.249736   \n",
       "min                         0.000000                       0.000000   \n",
       "25%                         1.000000                       0.000000   \n",
       "50%                         1.000000                       0.000000   \n",
       "75%                         1.000000                       0.000000   \n",
       "max                         1.000000                       1.000000   \n",
       "\n",
       "       NestLoop_join_plan_startup_cost  NestLoop_join_plan_total_cost  \\\n",
       "count                     8.240000e+02                   8.240000e+02   \n",
       "mean                      2.549677e+05                   3.855960e+09   \n",
       "std                       7.308229e+06                   1.093610e+11   \n",
       "min                       0.000000e+00                   2.000000e-02   \n",
       "25%                       0.000000e+00                   4.051875e+00   \n",
       "50%                       0.000000e+00                   4.653638e+02   \n",
       "75%                       8.405449e-02                   3.461233e+03   \n",
       "max                       2.097860e+08                   3.139138e+12   \n",
       "\n",
       "       NestLoop_join_plan_plan_rows  NestLoop_join_plan_plan_width  \\\n",
       "count                  8.240000e+02                     824.000000   \n",
       "mean                   2.562080e+11                      55.515777   \n",
       "std                    7.287677e+12                      76.267068   \n",
       "min                    1.000000e+00                       0.000000   \n",
       "25%                    1.000000e+00                       8.000000   \n",
       "50%                    2.200000e+01                      29.000000   \n",
       "75%                    6.814250e+03                      75.000000   \n",
       "max                    2.091900e+14                     650.000000   \n",
       "\n",
       "       NestLoop_join_plan_parallel_safe  NestLoop_join_plan_plan_node_id  \\\n",
       "count                        824.000000                       824.000000   \n",
       "mean                           0.208738                         1.930825   \n",
       "std                            0.406653                         2.255022   \n",
       "min                            0.000000                         0.000000   \n",
       "25%                            0.000000                         1.000000   \n",
       "50%                            0.000000                         1.000000   \n",
       "75%                            0.000000                         3.000000   \n",
       "max                            1.000000                        24.000000   \n",
       "\n",
       "       NestLoop_join_jointype  NestLoop_join_inner_unique  \n",
       "count              824.000000                  824.000000  \n",
       "mean                 0.643204                    0.002427  \n",
       "std                  0.959130                    0.049237  \n",
       "min                  0.000000                    0.000000  \n",
       "25%                  0.000000                    0.000000  \n",
       "50%                  0.000000                    0.000000  \n",
       "75%                  1.000000                    0.000000  \n",
       "max                  5.000000                    1.000000  "
      ]
     },
     "execution_count": 20,
     "metadata": {},
     "output_type": "execute_result"
    }
   ],
   "source": [
    "all_target_cols = ['cpu_cycles', 'instructions', 'cache_references', 'cache_misses', 'ref_cpu_cycles', 'network_bytes_read', 'network_bytes_written', 'disk_bytes_read', 'disk_bytes_written', 'memory_bytes', 'elapsed_us']\n",
    "feat_cols = [col for col in df.columns if col not in all_target_cols]\n",
    "features = df[feat_cols]\n",
    "features.describe()"
   ]
  },
  {
   "cell_type": "markdown",
   "id": "b10c98f0-a673-4c41-8d23-35eaa194cbde",
   "metadata": {},
   "source": [
    "### Summarize Targets"
   ]
  },
  {
   "cell_type": "code",
   "execution_count": 21,
   "id": "754600f5-b206-43a0-adc7-bed75eabd73f",
   "metadata": {},
   "outputs": [
    {
     "data": {
      "text/html": [
       "<div>\n",
       "<style scoped>\n",
       "    .dataframe tbody tr th:only-of-type {\n",
       "        vertical-align: middle;\n",
       "    }\n",
       "\n",
       "    .dataframe tbody tr th {\n",
       "        vertical-align: top;\n",
       "    }\n",
       "\n",
       "    .dataframe thead th {\n",
       "        text-align: right;\n",
       "    }\n",
       "</style>\n",
       "<table border=\"1\" class=\"dataframe\">\n",
       "  <thead>\n",
       "    <tr style=\"text-align: right;\">\n",
       "      <th></th>\n",
       "      <th>cpu_cycles</th>\n",
       "      <th>instructions</th>\n",
       "      <th>cache_references</th>\n",
       "      <th>cache_misses</th>\n",
       "      <th>ref_cpu_cycles</th>\n",
       "      <th>disk_bytes_written</th>\n",
       "      <th>elapsed_us</th>\n",
       "    </tr>\n",
       "  </thead>\n",
       "  <tbody>\n",
       "    <tr>\n",
       "      <th>count</th>\n",
       "      <td>8.240000e+02</td>\n",
       "      <td>8.240000e+02</td>\n",
       "      <td>8.240000e+02</td>\n",
       "      <td>8.240000e+02</td>\n",
       "      <td>8.240000e+02</td>\n",
       "      <td>824.000000</td>\n",
       "      <td>824.000000</td>\n",
       "    </tr>\n",
       "    <tr>\n",
       "      <th>mean</th>\n",
       "      <td>1.821340e+08</td>\n",
       "      <td>1.796292e+08</td>\n",
       "      <td>2.379095e+06</td>\n",
       "      <td>1.689133e+05</td>\n",
       "      <td>9.977471e+07</td>\n",
       "      <td>26.087379</td>\n",
       "      <td>40537.708738</td>\n",
       "    </tr>\n",
       "    <tr>\n",
       "      <th>std</th>\n",
       "      <td>6.617395e+08</td>\n",
       "      <td>6.593383e+08</td>\n",
       "      <td>8.159357e+06</td>\n",
       "      <td>6.420946e+05</td>\n",
       "      <td>3.583168e+08</td>\n",
       "      <td>393.945814</td>\n",
       "      <td>138498.202986</td>\n",
       "    </tr>\n",
       "    <tr>\n",
       "      <th>min</th>\n",
       "      <td>3.949000e+03</td>\n",
       "      <td>4.190000e+03</td>\n",
       "      <td>1.760000e+02</td>\n",
       "      <td>1.700000e+01</td>\n",
       "      <td>1.830000e+03</td>\n",
       "      <td>0.000000</td>\n",
       "      <td>7.000000</td>\n",
       "    </tr>\n",
       "    <tr>\n",
       "      <th>25%</th>\n",
       "      <td>3.124475e+04</td>\n",
       "      <td>4.045225e+04</td>\n",
       "      <td>1.358250e+03</td>\n",
       "      <td>7.300000e+01</td>\n",
       "      <td>1.259725e+04</td>\n",
       "      <td>0.000000</td>\n",
       "      <td>18.000000</td>\n",
       "    </tr>\n",
       "    <tr>\n",
       "      <th>50%</th>\n",
       "      <td>2.538395e+05</td>\n",
       "      <td>1.431615e+05</td>\n",
       "      <td>9.253000e+03</td>\n",
       "      <td>2.039000e+03</td>\n",
       "      <td>5.441350e+04</td>\n",
       "      <td>0.000000</td>\n",
       "      <td>40.000000</td>\n",
       "    </tr>\n",
       "    <tr>\n",
       "      <th>75%</th>\n",
       "      <td>4.569862e+06</td>\n",
       "      <td>5.432118e+06</td>\n",
       "      <td>1.244000e+05</td>\n",
       "      <td>1.468050e+04</td>\n",
       "      <td>1.244456e+06</td>\n",
       "      <td>0.000000</td>\n",
       "      <td>1637.500000</td>\n",
       "    </tr>\n",
       "    <tr>\n",
       "      <th>max</th>\n",
       "      <td>4.749324e+09</td>\n",
       "      <td>5.393621e+09</td>\n",
       "      <td>6.953281e+07</td>\n",
       "      <td>1.332352e+07</td>\n",
       "      <td>2.423093e+09</td>\n",
       "      <td>9280.000000</td>\n",
       "      <td>930288.000000</td>\n",
       "    </tr>\n",
       "  </tbody>\n",
       "</table>\n",
       "</div>"
      ],
      "text/plain": [
       "         cpu_cycles  instructions  cache_references  cache_misses  \\\n",
       "count  8.240000e+02  8.240000e+02      8.240000e+02  8.240000e+02   \n",
       "mean   1.821340e+08  1.796292e+08      2.379095e+06  1.689133e+05   \n",
       "std    6.617395e+08  6.593383e+08      8.159357e+06  6.420946e+05   \n",
       "min    3.949000e+03  4.190000e+03      1.760000e+02  1.700000e+01   \n",
       "25%    3.124475e+04  4.045225e+04      1.358250e+03  7.300000e+01   \n",
       "50%    2.538395e+05  1.431615e+05      9.253000e+03  2.039000e+03   \n",
       "75%    4.569862e+06  5.432118e+06      1.244000e+05  1.468050e+04   \n",
       "max    4.749324e+09  5.393621e+09      6.953281e+07  1.332352e+07   \n",
       "\n",
       "       ref_cpu_cycles  disk_bytes_written     elapsed_us  \n",
       "count    8.240000e+02          824.000000     824.000000  \n",
       "mean     9.977471e+07           26.087379   40537.708738  \n",
       "std      3.583168e+08          393.945814  138498.202986  \n",
       "min      1.830000e+03            0.000000       7.000000  \n",
       "25%      1.259725e+04            0.000000      18.000000  \n",
       "50%      5.441350e+04            0.000000      40.000000  \n",
       "75%      1.244456e+06            0.000000    1637.500000  \n",
       "max      2.423093e+09         9280.000000  930288.000000  "
      ]
     },
     "execution_count": 21,
     "metadata": {},
     "output_type": "execute_result"
    }
   ],
   "source": [
    "target_cols = [col for col in df.columns if col in all_target_cols]\n",
    "targets = df[target_cols]\n",
    "targets.describe()"
   ]
  },
  {
   "cell_type": "markdown",
   "id": "8bc882ec-df72-4c5f-8e47-5eaf263da876",
   "metadata": {},
   "source": [
    "## Show Features"
   ]
  },
  {
   "cell_type": "code",
   "execution_count": 22,
   "id": "d74b2a4f-0b6c-4336-bc9a-e183d7691db9",
   "metadata": {},
   "outputs": [
    {
     "data": {
      "text/html": [
       "<div>\n",
       "<style scoped>\n",
       "    .dataframe tbody tr th:only-of-type {\n",
       "        vertical-align: middle;\n",
       "    }\n",
       "\n",
       "    .dataframe tbody tr th {\n",
       "        vertical-align: top;\n",
       "    }\n",
       "\n",
       "    .dataframe thead th {\n",
       "        text-align: right;\n",
       "    }\n",
       "</style>\n",
       "<table border=\"1\" class=\"dataframe\">\n",
       "  <thead>\n",
       "    <tr style=\"text-align: right;\">\n",
       "      <th></th>\n",
       "      <th>NestLoopState_js_jointype</th>\n",
       "      <th>NestLoopState_js_single_match</th>\n",
       "      <th>NestLoopState_nl_NeedNewOuter</th>\n",
       "      <th>NestLoopState_nl_MatchedOuter</th>\n",
       "      <th>NestLoop_join_plan_startup_cost</th>\n",
       "      <th>NestLoop_join_plan_total_cost</th>\n",
       "      <th>NestLoop_join_plan_plan_rows</th>\n",
       "      <th>NestLoop_join_plan_plan_width</th>\n",
       "      <th>NestLoop_join_plan_parallel_safe</th>\n",
       "      <th>NestLoop_join_plan_plan_node_id</th>\n",
       "      <th>NestLoop_join_jointype</th>\n",
       "      <th>NestLoop_join_inner_unique</th>\n",
       "    </tr>\n",
       "  </thead>\n",
       "  <tbody>\n",
       "    <tr>\n",
       "      <th>0</th>\n",
       "      <td>1</td>\n",
       "      <td>0</td>\n",
       "      <td>1</td>\n",
       "      <td>0</td>\n",
       "      <td>0.000000</td>\n",
       "      <td>1.110000</td>\n",
       "      <td>1.0</td>\n",
       "      <td>32</td>\n",
       "      <td>0</td>\n",
       "      <td>5</td>\n",
       "      <td>1</td>\n",
       "      <td>0</td>\n",
       "    </tr>\n",
       "    <tr>\n",
       "      <th>1</th>\n",
       "      <td>0</td>\n",
       "      <td>0</td>\n",
       "      <td>1</td>\n",
       "      <td>0</td>\n",
       "      <td>0.000000</td>\n",
       "      <td>0.032500</td>\n",
       "      <td>1.0</td>\n",
       "      <td>378</td>\n",
       "      <td>0</td>\n",
       "      <td>1</td>\n",
       "      <td>0</td>\n",
       "      <td>0</td>\n",
       "    </tr>\n",
       "    <tr>\n",
       "      <th>2</th>\n",
       "      <td>1</td>\n",
       "      <td>0</td>\n",
       "      <td>1</td>\n",
       "      <td>0</td>\n",
       "      <td>0.000000</td>\n",
       "      <td>3328.600000</td>\n",
       "      <td>37800.0</td>\n",
       "      <td>15</td>\n",
       "      <td>0</td>\n",
       "      <td>2</td>\n",
       "      <td>1</td>\n",
       "      <td>0</td>\n",
       "    </tr>\n",
       "    <tr>\n",
       "      <th>3</th>\n",
       "      <td>0</td>\n",
       "      <td>0</td>\n",
       "      <td>1</td>\n",
       "      <td>0</td>\n",
       "      <td>1.294607</td>\n",
       "      <td>1.364607</td>\n",
       "      <td>1.0</td>\n",
       "      <td>53</td>\n",
       "      <td>0</td>\n",
       "      <td>5</td>\n",
       "      <td>0</td>\n",
       "      <td>0</td>\n",
       "    </tr>\n",
       "    <tr>\n",
       "      <th>4</th>\n",
       "      <td>0</td>\n",
       "      <td>0</td>\n",
       "      <td>1</td>\n",
       "      <td>0</td>\n",
       "      <td>0.000000</td>\n",
       "      <td>36.690000</td>\n",
       "      <td>417.0</td>\n",
       "      <td>106</td>\n",
       "      <td>0</td>\n",
       "      <td>1</td>\n",
       "      <td>0</td>\n",
       "      <td>0</td>\n",
       "    </tr>\n",
       "  </tbody>\n",
       "</table>\n",
       "</div>"
      ],
      "text/plain": [
       "   NestLoopState_js_jointype  NestLoopState_js_single_match  \\\n",
       "0                          1                              0   \n",
       "1                          0                              0   \n",
       "2                          1                              0   \n",
       "3                          0                              0   \n",
       "4                          0                              0   \n",
       "\n",
       "   NestLoopState_nl_NeedNewOuter  NestLoopState_nl_MatchedOuter  \\\n",
       "0                              1                              0   \n",
       "1                              1                              0   \n",
       "2                              1                              0   \n",
       "3                              1                              0   \n",
       "4                              1                              0   \n",
       "\n",
       "   NestLoop_join_plan_startup_cost  NestLoop_join_plan_total_cost  \\\n",
       "0                         0.000000                       1.110000   \n",
       "1                         0.000000                       0.032500   \n",
       "2                         0.000000                    3328.600000   \n",
       "3                         1.294607                       1.364607   \n",
       "4                         0.000000                      36.690000   \n",
       "\n",
       "   NestLoop_join_plan_plan_rows  NestLoop_join_plan_plan_width  \\\n",
       "0                           1.0                             32   \n",
       "1                           1.0                            378   \n",
       "2                       37800.0                             15   \n",
       "3                           1.0                             53   \n",
       "4                         417.0                            106   \n",
       "\n",
       "   NestLoop_join_plan_parallel_safe  NestLoop_join_plan_plan_node_id  \\\n",
       "0                                 0                                5   \n",
       "1                                 0                                1   \n",
       "2                                 0                                2   \n",
       "3                                 0                                5   \n",
       "4                                 0                                1   \n",
       "\n",
       "   NestLoop_join_jointype  NestLoop_join_inner_unique  \n",
       "0                       1                           0  \n",
       "1                       0                           0  \n",
       "2                       1                           0  \n",
       "3                       0                           0  \n",
       "4                       0                           0  "
      ]
     },
     "execution_count": 22,
     "metadata": {},
     "output_type": "execute_result"
    }
   ],
   "source": [
    "features.head(5)"
   ]
  },
  {
   "cell_type": "markdown",
   "id": "0c832e31-2548-4753-a6e9-a65aa28c5bb8",
   "metadata": {},
   "source": [
    "## Show targets"
   ]
  },
  {
   "cell_type": "code",
   "execution_count": 23,
   "id": "9682b5be-a0b6-499e-abce-4d4bae6be36c",
   "metadata": {},
   "outputs": [
    {
     "data": {
      "text/html": [
       "<div>\n",
       "<style scoped>\n",
       "    .dataframe tbody tr th:only-of-type {\n",
       "        vertical-align: middle;\n",
       "    }\n",
       "\n",
       "    .dataframe tbody tr th {\n",
       "        vertical-align: top;\n",
       "    }\n",
       "\n",
       "    .dataframe thead th {\n",
       "        text-align: right;\n",
       "    }\n",
       "</style>\n",
       "<table border=\"1\" class=\"dataframe\">\n",
       "  <thead>\n",
       "    <tr style=\"text-align: right;\">\n",
       "      <th></th>\n",
       "      <th>cpu_cycles</th>\n",
       "      <th>instructions</th>\n",
       "      <th>cache_references</th>\n",
       "      <th>cache_misses</th>\n",
       "      <th>ref_cpu_cycles</th>\n",
       "      <th>disk_bytes_written</th>\n",
       "      <th>elapsed_us</th>\n",
       "    </tr>\n",
       "  </thead>\n",
       "  <tbody>\n",
       "    <tr>\n",
       "      <th>0</th>\n",
       "      <td>119102</td>\n",
       "      <td>70035</td>\n",
       "      <td>2958</td>\n",
       "      <td>1315</td>\n",
       "      <td>19234</td>\n",
       "      <td>0</td>\n",
       "      <td>14</td>\n",
       "    </tr>\n",
       "    <tr>\n",
       "      <th>1</th>\n",
       "      <td>75977</td>\n",
       "      <td>49377</td>\n",
       "      <td>185</td>\n",
       "      <td>115</td>\n",
       "      <td>18079</td>\n",
       "      <td>0</td>\n",
       "      <td>16</td>\n",
       "    </tr>\n",
       "    <tr>\n",
       "      <th>2</th>\n",
       "      <td>297883460</td>\n",
       "      <td>214670351</td>\n",
       "      <td>897700</td>\n",
       "      <td>93208</td>\n",
       "      <td>222041239</td>\n",
       "      <td>0</td>\n",
       "      <td>93793</td>\n",
       "    </tr>\n",
       "    <tr>\n",
       "      <th>3</th>\n",
       "      <td>3949</td>\n",
       "      <td>4190</td>\n",
       "      <td>176</td>\n",
       "      <td>2488</td>\n",
       "      <td>146689</td>\n",
       "      <td>0</td>\n",
       "      <td>33</td>\n",
       "    </tr>\n",
       "    <tr>\n",
       "      <th>4</th>\n",
       "      <td>124752</td>\n",
       "      <td>53202</td>\n",
       "      <td>2465</td>\n",
       "      <td>17</td>\n",
       "      <td>1830</td>\n",
       "      <td>0</td>\n",
       "      <td>19</td>\n",
       "    </tr>\n",
       "  </tbody>\n",
       "</table>\n",
       "</div>"
      ],
      "text/plain": [
       "   cpu_cycles  instructions  cache_references  cache_misses  ref_cpu_cycles  \\\n",
       "0      119102         70035              2958          1315           19234   \n",
       "1       75977         49377               185           115           18079   \n",
       "2   297883460     214670351            897700         93208       222041239   \n",
       "3        3949          4190               176          2488          146689   \n",
       "4      124752         53202              2465            17            1830   \n",
       "\n",
       "   disk_bytes_written  elapsed_us  \n",
       "0                   0          14  \n",
       "1                   0          16  \n",
       "2                   0       93793  \n",
       "3                   0          33  \n",
       "4                   0          19  "
      ]
     },
     "execution_count": 23,
     "metadata": {},
     "output_type": "execute_result"
    }
   ],
   "source": [
    "targets.head(5)"
   ]
  },
  {
   "cell_type": "code",
   "execution_count": 24,
   "id": "274fdb84-0db0-432f-94df-10cd4e69d104",
   "metadata": {},
   "outputs": [],
   "source": [
    "def plot_histograms(df): \n",
    "    for col_name in df.columns: \n",
    "        res = stats.relfreq(df[col_name], numbins=10)\n",
    "        x = res.lowerlimit + np.linspace(0, res.binsize*res.frequency.size,\n",
    "                                         res.frequency.size)\n",
    "        fig = plt.figure(figsize=(6, 2))\n",
    "        ax = fig.add_subplot(1, 1, 1)\n",
    "        ax.bar(x, res.frequency, width=res.binsize)\n",
    "        ax.set_title(col_name)\n",
    "        ax.set_xlim([x.min(), x.max()])"
   ]
  },
  {
   "cell_type": "markdown",
   "id": "25fea886-a0d1-43bf-b6b9-97a527234b0d",
   "metadata": {
    "tags": []
   },
   "source": [
    "#### Visualizations"
   ]
  },
  {
   "cell_type": "code",
   "execution_count": 25,
   "id": "18c55cf1-a0de-41d1-8000-7894adda14d1",
   "metadata": {},
   "outputs": [
    {
     "data": {
      "image/png": "[encoded data removed]",
      "text/plain": [
       "<Figure size 432x144 with 1 Axes>"
      ]
     },
     "metadata": {
      "needs_background": "light"
     },
     "output_type": "display_data"
    },
    {
     "data": {
      "image/png": "[encoded data removed]",
      "text/plain": [
       "<Figure size 432x144 with 1 Axes>"
      ]
     },
     "metadata": {
      "needs_background": "light"
     },
     "output_type": "display_data"
    },
    {
     "data": {
      "image/png": "[encoded data removed]",
      "text/plain": [
       "<Figure size 432x144 with 1 Axes>"
      ]
     },
     "metadata": {
      "needs_background": "light"
     },
     "output_type": "display_data"
    },
    {
     "data": {
      "image/png": "[encoded data removed]",
      "text/plain": [
       "<Figure size 432x144 with 1 Axes>"
      ]
     },
     "metadata": {
      "needs_background": "light"
     },
     "output_type": "display_data"
    },
    {
     "data": {
      "image/png": "[encoded data removed]",
      "text/plain": [
       "<Figure size 432x144 with 1 Axes>"
      ]
     },
     "metadata": {
      "needs_background": "light"
     },
     "output_type": "display_data"
    },
    {
     "data": {
      "image/png": "[encoded data removed]",
      "text/plain": [
       "<Figure size 432x144 with 1 Axes>"
      ]
     },
     "metadata": {
      "needs_background": "light"
     },
     "output_type": "display_data"
    },
    {
     "data": {
      "image/png": "[encoded data removed]",
      "text/plain": [
       "<Figure size 432x144 with 1 Axes>"
      ]
     },
     "metadata": {
      "needs_background": "light"
     },
     "output_type": "display_data"
    }
   ],
   "source": [
    "plot_histograms(targets)"
   ]
  },
  {
   "cell_type": "code",
   "execution_count": 26,
   "id": "28d828bf-1ce1-4ee2-90ae-8144291150eb",
   "metadata": {},
   "outputs": [
    {
     "data": {
      "image/png": "[encoded data removed]",
      "text/plain": [
       "<Figure size 432x144 with 1 Axes>"
      ]
     },
     "metadata": {
      "needs_background": "light"
     },
     "output_type": "display_data"
    },
    {
     "data": {
      "image/png": "[encoded data removed]",
      "text/plain": [
       "<Figure size 432x144 with 1 Axes>"
      ]
     },
     "metadata": {
      "needs_background": "light"
     },
     "output_type": "display_data"
    },
    {
     "data": {
      "image/png": "[encoded data removed]",
      "text/plain": [
       "<Figure size 432x144 with 1 Axes>"
      ]
     },
     "metadata": {
      "needs_background": "light"
     },
     "output_type": "display_data"
    },
    {
     "data": {
      "image/png": "[encoded data removed]",
      "text/plain": [
       "<Figure size 432x144 with 1 Axes>"
      ]
     },
     "metadata": {
      "needs_background": "light"
     },
     "output_type": "display_data"
    },
    {
     "data": {
      "image/png": "[encoded data removed]",
      "text/plain": [
       "<Figure size 432x144 with 1 Axes>"
      ]
     },
     "metadata": {
      "needs_background": "light"
     },
     "output_type": "display_data"
    },
    {
     "data": {
      "image/png": "[encoded data removed]",
      "text/plain": [
       "<Figure size 432x144 with 1 Axes>"
      ]
     },
     "metadata": {
      "needs_background": "light"
     },
     "output_type": "display_data"
    },
    {
     "data": {
      "image/png": "[encoded data removed]",
      "text/plain": [
       "<Figure size 432x144 with 1 Axes>"
      ]
     },
     "metadata": {
      "needs_background": "light"
     },
     "output_type": "display_data"
    },
    {
     "data": {
      "image/png": "[encoded data removed]",
      "text/plain": [
       "<Figure size 432x144 with 1 Axes>"
      ]
     },
     "metadata": {
      "needs_background": "light"
     },
     "output_type": "display_data"
    },
    {
     "data": {
      "image/png": "[encoded data removed]",
      "text/plain": [
       "<Figure size 432x144 with 1 Axes>"
      ]
     },
     "metadata": {
      "needs_background": "light"
     },
     "output_type": "display_data"
    },
    {
     "data": {
      "image/png": "[encoded data removed]",
      "text/plain": [
       "<Figure size 432x144 with 1 Axes>"
      ]
     },
     "metadata": {
      "needs_background": "light"
     },
     "output_type": "display_data"
    },
    {
     "data": {
      "image/png": "[encoded data removed]",
      "text/plain": [
       "<Figure size 432x144 with 1 Axes>"
      ]
     },
     "metadata": {
      "needs_background": "light"
     },
     "output_type": "display_data"
    },
    {
     "data": {
      "image/png": "[encoded data removed]",
      "text/plain": [
       "<Figure size 432x144 with 1 Axes>"
      ]
     },
     "metadata": {
      "needs_background": "light"
     },
     "output_type": "display_data"
    }
   ],
   "source": [
    "plot_histograms(features)"
   ]
  },
  {
   "cell_type": "markdown",
   "id": "4013ae1a-d6dd-46cd-af51-60cea2c2aa98",
   "metadata": {
    "tags": []
   },
   "source": [
    "#### Correlation Heatmap"
   ]
  },
  {
   "cell_type": "code",
   "execution_count": 27,
   "id": "c5b18080-8c18-4892-9b19-6a0def42262c",
   "metadata": {},
   "outputs": [
    {
     "data": {
      "image/png": "[encoded data removed]",
      "text/plain": [
       "<Figure size 720x504 with 2 Axes>"
      ]
     },
     "metadata": {
      "needs_background": "light"
     },
     "output_type": "display_data"
    }
   ],
   "source": [
    "df_corr = df.corr()\n",
    "plt.figure(figsize=(10,7))\n",
    "sns.heatmap(df_corr, cmap='GnBu')\n",
    "plt.show()"
   ]
  },
  {
   "cell_type": "markdown",
   "id": "61b388e5-dde5-4537-b821-efeb8e853414",
   "metadata": {},
   "source": [
    "# Feature Analysis - PCA"
   ]
  },
  {
   "cell_type": "code",
   "execution_count": 28,
   "id": "05492839-1e4c-4c03-980f-583931ff0d19",
   "metadata": {},
   "outputs": [],
   "source": [
    "def pca_summary(df):\n",
    "    pca = PCA(n_components=None)\n",
    "    pca.fit(df)\n",
    "    print(f\"Input Dimensionality: {len(df.columns)}\")\n",
    "    for component_idx, explained_var_pct in enumerate(pca.explained_variance_ratio_):\n",
    "        print(f\"Component {component_idx} explains {round(explained_var_pct*100, 2)}% of variance\")"
   ]
  },
  {
   "cell_type": "code",
   "execution_count": 29,
   "id": "54ef595f-7344-432b-b44a-0ffd9159b041",
   "metadata": {},
   "outputs": [
    {
     "name": "stdout",
     "output_type": "stream",
     "text": [
      "Input Dimensionality: 19\n",
      "Component 0 explains 100.0% of variance\n",
      "Component 1 explains 0.0% of variance\n",
      "Component 2 explains 0.0% of variance\n",
      "Component 3 explains 0.0% of variance\n",
      "Component 4 explains 0.0% of variance\n",
      "Component 5 explains 0.0% of variance\n",
      "Component 6 explains 0.0% of variance\n",
      "Component 7 explains 0.0% of variance\n",
      "Component 8 explains 0.0% of variance\n",
      "Component 9 explains 0.0% of variance\n",
      "Component 10 explains 0.0% of variance\n",
      "Component 11 explains 0.0% of variance\n",
      "Component 12 explains 0.0% of variance\n",
      "Component 13 explains 0.0% of variance\n",
      "Component 14 explains 0.0% of variance\n",
      "Component 15 explains 0.0% of variance\n",
      "Component 16 explains 0.0% of variance\n",
      "Component 17 explains 0.0% of variance\n",
      "Component 18 explains 0.0% of variance\n"
     ]
    }
   ],
   "source": [
    "pca_summary(df)"
   ]
  },
  {
   "cell_type": "code",
   "execution_count": 30,
   "id": "6a5292b5-fdb0-4271-ae56-efa4c5718ff0",
   "metadata": {},
   "outputs": [
    {
     "data": {
      "text/plain": [
       "Index(['NestLoopState_js_jointype', 'NestLoopState_js_single_match',\n",
       "       'NestLoopState_nl_NeedNewOuter', 'NestLoopState_nl_MatchedOuter',\n",
       "       'NestLoop_join_plan_startup_cost', 'NestLoop_join_plan_total_cost',\n",
       "       'NestLoop_join_plan_plan_rows', 'NestLoop_join_plan_plan_width',\n",
       "       'NestLoop_join_plan_parallel_safe', 'NestLoop_join_plan_plan_node_id',\n",
       "       'NestLoop_join_jointype', 'NestLoop_join_inner_unique'],\n",
       "      dtype='object')"
      ]
     },
     "execution_count": 30,
     "metadata": {},
     "output_type": "execute_result"
    }
   ],
   "source": [
    "features.columns"
   ]
  },
  {
   "cell_type": "code",
   "execution_count": 31,
   "id": "0a48f571-b4c2-4958-a183-0d4d78630927",
   "metadata": {},
   "outputs": [
    {
     "name": "stdout",
     "output_type": "stream",
     "text": [
      "Input Dimensionality: 12\n",
      "Component 0 explains 100.0% of variance\n",
      "Component 1 explains 0.0% of variance\n",
      "Component 2 explains 0.0% of variance\n",
      "Component 3 explains 0.0% of variance\n",
      "Component 4 explains 0.0% of variance\n",
      "Component 5 explains 0.0% of variance\n",
      "Component 6 explains 0.0% of variance\n",
      "Component 7 explains 0.0% of variance\n",
      "Component 8 explains 0.0% of variance\n",
      "Component 9 explains 0.0% of variance\n",
      "Component 10 explains 0.0% of variance\n",
      "Component 11 explains 0.0% of variance\n"
     ]
    }
   ],
   "source": [
    "pca_summary(features)"
   ]
  },
  {
   "cell_type": "code",
   "execution_count": null,
   "id": "d8acfc55-cd83-4b43-9db8-c090fe6a2523",
   "metadata": {},
   "outputs": [],
   "source": []
  },
  {
   "cell_type": "code",
   "execution_count": null,
   "id": "d551abc9-cf22-4f06-a87b-ccbc565f8b89",
   "metadata": {},
   "outputs": [],
   "source": []
  },
  {
   "cell_type": "code",
   "execution_count": null,
   "id": "8a42bb19-1b30-4bfb-aae1-e5d37d308dde",
   "metadata": {},
   "outputs": [],
   "source": []
  },
  {
   "cell_type": "code",
   "execution_count": null,
   "id": "76814a96-dcf8-48a0-a30a-6f95768dce2e",
   "metadata": {},
   "outputs": [],
   "source": []
  },
  {
   "cell_type": "code",
   "execution_count": null,
   "id": "d8200d21-ae7b-4905-abea-3139c93c4474",
   "metadata": {},
   "outputs": [],
   "source": []
  }
 ],
 "metadata": {
  "kernelspec": {
   "display_name": "postgres",
   "language": "python",
   "name": "postgres"
  },
  "language_info": {
   "codemirror_mode": {
    "name": "ipython",
    "version": 3
   },
   "file_extension": ".py",
   "mimetype": "text/x-python",
   "name": "python",
   "nbconvert_exporter": "python",
   "pygments_lexer": "ipython3",
   "version": "3.9.7"
  }
 },
 "nbformat": 4,
 "nbformat_minor": 5
}
