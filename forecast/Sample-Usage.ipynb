{
 "cells": [
  {
   "cell_type": "code",
   "execution_count": 1,
   "id": "89e1143a",
   "metadata": {},
   "outputs": [],
   "source": [
    "import numpy as np\n",
    "import pandas as pd\n",
    "\n",
    "from preprocessor import Preprocessor, PreprocessorCLI\n",
    "from clusterer import Clusterer\n",
    "from forecaster import ClusterForecaster, WorkloadGenerator\n",
    "\n",
    "import glob\n",
    "from pathlib import Path\n",
    "\n",
    "from matplotlib import pyplot as plt"
   ]
  },
  {
   "cell_type": "markdown",
   "id": "0fbc2c48",
   "metadata": {},
   "source": [
    "### Workload Generation\n",
    "Using sample tpcc data"
   ]
  },
  {
   "cell_type": "code",
   "execution_count": 2,
   "id": "9a201efc",
   "metadata": {},
   "outputs": [
    {
     "data": {
      "application/vnd.jupyter.widget-view+json": {
       "model_id": "8d73487221634b7a94b6b71cc45d84c2",
       "version_major": 2,
       "version_minor": 0
      },
      "text/plain": [
       "HBox(children=(FloatProgress(value=0.0, max=61.0), HTML(value='')))"
      ]
     },
     "metadata": {},
     "output_type": "display_data"
    },
    {
     "name": "stdout",
     "output_type": "stream",
     "text": [
      "\n",
      "Read dataframe: 14.08 s\n",
      "Extract queries: TODO(WAN): Disabled SQL format for being too slow.\n",
      "Extract queries: 8.22 s\n",
      "Extract parameters: 6.32 s\n",
      "Substitute parameters into query: 20.38 s\n",
      "Parse query: 22.07 s\n"
     ]
    }
   ],
   "source": [
    "query_log_folder = \"/home/mkpjnx/repos/QueryBot5000/data/extracted/extended/\"\n",
    "pgfiles = glob.glob(str(Path(query_log_folder) / \"postgresql*.csv\"))\n",
    "\n",
    "preprocessor = Preprocessor(pgfiles, PreprocessorCLI._PG_LOG_COLUMNS)"
   ]
  },
  {
   "cell_type": "code",
   "execution_count": 3,
   "id": "42c639d2",
   "metadata": {},
   "outputs": [
    {
     "name": "stdout",
     "output_type": "stream",
     "text": [
      "Clustering query templates.\n"
     ]
    },
    {
     "data": {
      "text/html": [
       "<div>\n",
       "<style scoped>\n",
       "    .dataframe tbody tr th:only-of-type {\n",
       "        vertical-align: middle;\n",
       "    }\n",
       "\n",
       "    .dataframe tbody tr th {\n",
       "        vertical-align: top;\n",
       "    }\n",
       "\n",
       "    .dataframe thead th {\n",
       "        text-align: right;\n",
       "    }\n",
       "</style>\n",
       "<table border=\"1\" class=\"dataframe\">\n",
       "  <thead>\n",
       "    <tr style=\"text-align: right;\">\n",
       "      <th></th>\n",
       "      <th></th>\n",
       "      <th>count</th>\n",
       "    </tr>\n",
       "    <tr>\n",
       "      <th>cluster</th>\n",
       "      <th>log_time_s</th>\n",
       "      <th></th>\n",
       "    </tr>\n",
       "  </thead>\n",
       "  <tbody>\n",
       "    <tr>\n",
       "      <th rowspan=\"8\" valign=\"top\">0</th>\n",
       "      <th>2021-12-06 14:23:32-05:00</th>\n",
       "      <td>616</td>\n",
       "    </tr>\n",
       "    <tr>\n",
       "      <th>2021-12-06 14:23:32.250000-05:00</th>\n",
       "      <td>1699</td>\n",
       "    </tr>\n",
       "    <tr>\n",
       "      <th>2021-12-06 14:23:32.500000-05:00</th>\n",
       "      <td>2344</td>\n",
       "    </tr>\n",
       "    <tr>\n",
       "      <th>2021-12-06 14:23:32.750000-05:00</th>\n",
       "      <td>1943</td>\n",
       "    </tr>\n",
       "    <tr>\n",
       "      <th>2021-12-06 14:23:33-05:00</th>\n",
       "      <td>2367</td>\n",
       "    </tr>\n",
       "    <tr>\n",
       "      <th>...</th>\n",
       "      <td>...</td>\n",
       "    </tr>\n",
       "    <tr>\n",
       "      <th>2021-12-06 14:24:32.750000-05:00</th>\n",
       "      <td>3328</td>\n",
       "    </tr>\n",
       "    <tr>\n",
       "      <th>2021-12-06 14:24:33-05:00</th>\n",
       "      <td>1265</td>\n",
       "    </tr>\n",
       "    <tr>\n",
       "      <th>1</th>\n",
       "      <th>2021-12-06 14:23:32-05:00</th>\n",
       "      <td>29</td>\n",
       "    </tr>\n",
       "    <tr>\n",
       "      <th>2</th>\n",
       "      <th>2021-12-06 14:24:33-05:00</th>\n",
       "      <td>9</td>\n",
       "    </tr>\n",
       "    <tr>\n",
       "      <th>3</th>\n",
       "      <th>2021-12-06 14:23:31.750000-05:00</th>\n",
       "      <td>1</td>\n",
       "    </tr>\n",
       "  </tbody>\n",
       "</table>\n",
       "<p>248 rows × 1 columns</p>\n",
       "</div>"
      ],
      "text/plain": [
       "                                          count\n",
       "cluster log_time_s                             \n",
       "0       2021-12-06 14:23:32-05:00           616\n",
       "        2021-12-06 14:23:32.250000-05:00   1699\n",
       "        2021-12-06 14:23:32.500000-05:00   2344\n",
       "        2021-12-06 14:23:32.750000-05:00   1943\n",
       "        2021-12-06 14:23:33-05:00          2367\n",
       "...                                         ...\n",
       "        2021-12-06 14:24:32.750000-05:00   3328\n",
       "        2021-12-06 14:24:33-05:00          1265\n",
       "1       2021-12-06 14:23:32-05:00            29\n",
       "2       2021-12-06 14:24:33-05:00             9\n",
       "3       2021-12-06 14:23:31.750000-05:00      1\n",
       "\n",
       "[248 rows x 1 columns]"
      ]
     },
     "execution_count": 3,
     "metadata": {},
     "output_type": "execute_result"
    }
   ],
   "source": [
    "model_path = \"models\"\n",
    "\n",
    "cluster_interval = pd.Timedelta(seconds=.25)\n",
    "df = preprocessor.get_grouped_dataframe_interval(cluster_interval)\n",
    "\n",
    "df.index.rename([\"query_template\", \"log_time_s\"], inplace=1)\n",
    "\n",
    "print(\"Clustering query templates.\")\n",
    "clusterer = Clusterer(df, cluster_interval=cluster_interval)\n",
    "assignment_df = clusterer.assignment_df\n",
    "\n",
    "# join to cluster and group by\n",
    "joined = df.join(assignment_df)\n",
    "joined[\"cluster\"].fillna(-1, inplace=True)\n",
    "clustered_df = joined.groupby([\"cluster\", \"log_time_s\"]).sum()\n",
    "clustered_df"
   ]
  },
  {
   "cell_type": "code",
   "execution_count": 4,
   "id": "abc80eb7",
   "metadata": {},
   "outputs": [
    {
     "data": {
      "text/html": [
       "<div>\n",
       "<style scoped>\n",
       "    .dataframe tbody tr th:only-of-type {\n",
       "        vertical-align: middle;\n",
       "    }\n",
       "\n",
       "    .dataframe tbody tr th {\n",
       "        vertical-align: top;\n",
       "    }\n",
       "\n",
       "    .dataframe thead th {\n",
       "        text-align: right;\n",
       "    }\n",
       "</style>\n",
       "<table border=\"1\" class=\"dataframe\">\n",
       "  <thead>\n",
       "    <tr style=\"text-align: right;\">\n",
       "      <th></th>\n",
       "      <th>count</th>\n",
       "    </tr>\n",
       "    <tr>\n",
       "      <th>cluster</th>\n",
       "      <th></th>\n",
       "    </tr>\n",
       "  </thead>\n",
       "  <tbody>\n",
       "    <tr>\n",
       "      <th>0</th>\n",
       "      <td>723308</td>\n",
       "    </tr>\n",
       "    <tr>\n",
       "      <th>1</th>\n",
       "      <td>29</td>\n",
       "    </tr>\n",
       "  </tbody>\n",
       "</table>\n",
       "</div>"
      ],
      "text/plain": [
       "          count\n",
       "cluster        \n",
       "0        723308\n",
       "1            29"
      ]
     },
     "execution_count": 4,
     "metadata": {},
     "output_type": "execute_result"
    }
   ],
   "source": [
    "# only train with the top 5 clusters\n",
    "TOP_K_CLUSTERS = 2\n",
    "cluster_totals = clustered_df.groupby(level=0).sum().sort_values(by='count', ascending=False)\n",
    "cluster_totals.iloc[:TOP_K_CLUSTERS]"
   ]
  },
  {
   "cell_type": "code",
   "execution_count": 5,
   "id": "c2e20c23",
   "metadata": {},
   "outputs": [],
   "source": [
    "import importlib\n",
    "import forecaster\n",
    "importlib.reload(forecaster)\n",
    "from forecaster import ClusterForecaster"
   ]
  },
  {
   "cell_type": "code",
   "execution_count": 6,
   "id": "1dab8212",
   "metadata": {},
   "outputs": [
    {
     "name": "stdout",
     "output_type": "stream",
     "text": [
      "Training on cluster time series..\n",
      "training model for cluster 0\n",
      "Training with 63 samples, 10 epochs:\n",
      "[LSTM FIT]epoch:   1 loss: 0.00466228\n",
      "[LSTM FIT]epoch:   2 loss: 0.09767193\n",
      "[LSTM FIT]epoch:   3 loss: 0.19148356\n",
      "[LSTM FIT]epoch:   4 loss: 0.03185757\n",
      "[LSTM FIT]epoch:   5 loss: 1.78058124\n",
      "[LSTM FIT]epoch:   6 loss: 0.02628156\n",
      "[LSTM FIT]epoch:   7 loss: 0.00190569\n",
      "[LSTM FIT]epoch:   8 loss: 1.85031700\n",
      "[LSTM FIT]epoch:   9 loss: 0.03594513\n",
      "[LSTM FIT]epoch:  10 loss: 0.01160441\n",
      "[LSTM FIT]epoch:  10 loss: 0.0116044115\n",
      "training model for cluster 1\n",
      "Training with 63 samples, 10 epochs:\n",
      "[LSTM FIT]epoch:   1 loss: 0.00100149\n",
      "[LSTM FIT]epoch:   2 loss: 0.00010598\n",
      "[LSTM FIT]epoch:   3 loss: 0.00190880\n",
      "[LSTM FIT]epoch:   4 loss: 0.00004711\n",
      "[LSTM FIT]epoch:   5 loss: 0.00030231\n",
      "[LSTM FIT]epoch:   6 loss: 0.00043897\n",
      "[LSTM FIT]epoch:   7 loss: 0.00022428\n",
      "[LSTM FIT]epoch:   8 loss: 0.00023303\n",
      "[LSTM FIT]epoch:   9 loss: 0.00049877\n",
      "[LSTM FIT]epoch:  10 loss: 0.00004880\n",
      "[LSTM FIT]epoch:  10 loss: 0.0000488012\n",
      "training model for cluster 2\n",
      "Training with 63 samples, 10 epochs:\n",
      "[LSTM FIT]epoch:   1 loss: 3.94205904\n",
      "[LSTM FIT]epoch:   2 loss: 0.03355327\n",
      "[LSTM FIT]epoch:   3 loss: 0.03356150\n",
      "[LSTM FIT]epoch:   4 loss: 2.69912672\n",
      "[LSTM FIT]epoch:   5 loss: 0.13798870\n",
      "[LSTM FIT]epoch:   6 loss: 0.00581957\n",
      "[LSTM FIT]epoch:   7 loss: 0.05713642\n",
      "[LSTM FIT]epoch:   8 loss: 0.04040396\n",
      "[LSTM FIT]epoch:   9 loss: 0.08911382\n",
      "[LSTM FIT]epoch:  10 loss: 3.17640853\n",
      "[LSTM FIT]epoch:  10 loss: 3.1764085293\n",
      "training model for cluster 3\n",
      "Training with 63 samples, 10 epochs:\n",
      "[LSTM FIT]epoch:   1 loss: 0.00191334\n",
      "[LSTM FIT]epoch:   2 loss: 0.00017402\n",
      "[LSTM FIT]epoch:   3 loss: 0.00049224\n",
      "[LSTM FIT]epoch:   4 loss: 0.00019758\n",
      "[LSTM FIT]epoch:   5 loss: 0.00016057\n",
      "[LSTM FIT]epoch:   6 loss: 0.00009901\n",
      "[LSTM FIT]epoch:   7 loss: 0.00004614\n",
      "[LSTM FIT]epoch:   8 loss: 0.00108600\n",
      "[LSTM FIT]epoch:   9 loss: 0.00038662\n",
      "[LSTM FIT]epoch:  10 loss: 0.00023524\n",
      "[LSTM FIT]epoch:  10 loss: 0.0002352379\n"
     ]
    }
   ],
   "source": [
    "pred_interval = pd.Timedelta(seconds=1)\n",
    "pred_horizon = pd.Timedelta(seconds=5)\n",
    "\n",
    "cluster_forecaster = ClusterForecaster(\n",
    "    clustered_df,\n",
    "    prediction_seqlen=10,\n",
    "    prediction_interval=pred_interval,\n",
    "    prediction_horizon=pred_horizon,\n",
    "    save_path=model_path,\n",
    "    top_k=5,\n",
    "    override=True)"
   ]
  },
  {
   "cell_type": "code",
   "execution_count": 7,
   "id": "260c9cbf",
   "metadata": {},
   "outputs": [],
   "source": [
    "min_time = clustered_df.index.get_level_values(1).min()\n",
    "max_time = clustered_df.index.get_level_values(1).max()"
   ]
  },
  {
   "cell_type": "code",
   "execution_count": 8,
   "id": "1d4064f1",
   "metadata": {},
   "outputs": [],
   "source": [
    "# predict over a 1 minute interval\n",
    "pred_start = min_time\n",
    "pred_end = max_time + pred_horizon"
   ]
  },
  {
   "cell_type": "code",
   "execution_count": 9,
   "id": "28e57b7b",
   "metadata": {},
   "outputs": [
    {
     "data": {
      "image/png": "[encoded data removed]",
      "text/plain": [
       "<Figure size 432x288 with 1 Axes>"
      ]
     },
     "metadata": {
      "needs_background": "light"
     },
     "output_type": "display_data"
    }
   ],
   "source": [
    "cluster = 0\n",
    "\n",
    "result = cluster_forecaster.predict(clustered_df, cluster, pred_start, pred_end)\n",
    "\n",
    "expected = clustered_df[clustered_df.index.get_level_values(0) == cluster].droplevel(0).resample(pred_interval).sum()\n",
    "expected = expected[pred_start:(pred_end - pd.Timedelta(milliseconds = 1))]\n",
    "\n",
    "# result\n",
    "plt.plot(expected)\n",
    "plt.plot(result, \"--\")\n",
    "plt.show()\n"
   ]
  },
  {
   "cell_type": "code",
   "execution_count": 10,
   "id": "3fa203c8",
   "metadata": {},
   "outputs": [
    {
     "data": {
      "text/plain": [
       "query\n",
       "SELECT I_PRICE, I_NAME , I_DATA FROM item WHERE I_ID = '72869'                                                                                                                                                                                                                                                                                                                                                                                                                                                                                                                                                                                                                                           119970\n",
       "SELECT S_QUANTITY, S_DATA, S_DIST_01, S_DIST_02, S_DIST_03, S_DIST_04, S_DIST_05, S_DIST_06, S_DIST_07, S_DIST_08, S_DIST_09, S_DIST_10 FROM stock WHERE S_I_ID = '56677' AND S_W_ID = '1' FOR UPDATE                                                                                                                                                                                                                                                                                                                                                                                                                                                                                                    119837\n",
       "INSERT INTO order_line (OL_O_ID, OL_D_ID, OL_W_ID, OL_NUMBER, OL_I_ID, OL_SUPPLY_W_ID, OL_QUANTITY, OL_AMOUNT, OL_DIST_INFO) VALUES ('3255','7','1','8','12899','1','2','190.9199981689453','aycrslrqewmbllcsqzeerre ')                                                                                                                                                                                                                                                                                                                                                                                                                                                                                  118627\n",
       "UPDATE stock SET S_QUANTITY = '60' , S_YTD = S_YTD + '6', S_ORDER_CNT = S_ORDER_CNT + 1, S_REMOTE_CNT = S_REMOTE_CNT + '0' WHERE S_I_ID = '36581' AND S_W_ID = '1'                                                                                                                                                                                                                                                                                                                                                                                                                                                                                                                                       118627\n",
       "INSERT INTO new_order (NO_O_ID, NO_D_ID, NO_W_ID) VALUES ( '4072', '6', '1')                                                                                                                                                                                                                                                                                                                                                                                                                                                                                                                                                                                                                              11979\n",
       "INSERT INTO oorder (O_ID, O_D_ID, O_W_ID, O_C_ID, O_ENTRY_D, O_OL_CNT, O_ALL_LOCAL) VALUES ('4165', '3', '1', '203', '2021-12-06 14:24:32.026', '15', '1')                                                                                                                                                                                                                                                                                                                                                                                                                                                                                                                                                11979\n",
       "SELECT W_TAX FROM warehouse WHERE W_ID = '1'                                                                                                                                                                                                                                                                                                                                                                                                                                                                                                                                                                                                                                                              11979\n",
       "SELECT C_DISCOUNT, C_LAST, C_CREDIT FROM customer WHERE C_W_ID = '1' AND C_D_ID = '9' AND C_ID = '2275'                                                                                                                                                                                                                                                                                                                                                                                                                                                                                                                                                                                                   11979\n",
       "UPDATE district SET D_NEXT_O_ID = D_NEXT_O_ID + 1 WHERE D_W_ID = '1' AND D_ID = '3'                                                                                                                                                                                                                                                                                                                                                                                                                                                                                                                                                                                                                       11979\n",
       "SELECT D_NEXT_O_ID, D_TAX FROM district WHERE D_W_ID = '1' AND D_ID = '5' FOR UPDATE                                                                                                                                                                                                                                                                                                                                                                                                                                                                                                                                                                                                                      11979\n",
       "UPDATE warehouse SET W_YTD = W_YTD + '2785.39990234375' WHERE W_ID = '1'                                                                                                                                                                                                                                                                                                                                                                                                                                                                                                                                                                                                                                  11519\n",
       "INSERT INTO history (H_C_D_ID, H_C_W_ID, H_C_ID, H_D_ID, H_W_ID, H_DATE, H_AMOUNT, H_DATA) VALUES ('3','1','991','8','1','2021-12-06 14:24:11.164','2837.159912109375','bhxxze    qysqer')                                                                                                                                                                                                                                                                                                                                                                                                                                                                                                                11519\n",
       "UPDATE district SET D_YTD = D_YTD + '3108.72998046875' WHERE D_W_ID = '1' AND D_ID = '10'                                                                                                                                                                                                                                                                                                                                                                                                                                                                                                                                                                                                                 11519\n",
       "SELECT D_STREET_1, D_STREET_2, D_CITY, D_STATE, D_ZIP, D_NAME FROM district WHERE D_W_ID = '1' AND D_ID = '8'                                                                                                                                                                                                                                                                                                                                                                                                                                                                                                                                                                                             11519\n",
       "SELECT W_STREET_1, W_STREET_2, W_CITY, W_STATE, W_ZIP, W_NAME FROM warehouse WHERE W_ID = '1'                                                                                                                                                                                                                                                                                                                                                                                                                                                                                                                                                                                                             11519\n",
       "UPDATE customer SET C_BALANCE = C_BALANCE + '28480.169921875', C_DELIVERY_CNT = C_DELIVERY_CNT + 1 WHERE C_W_ID = '1' AND C_D_ID = '3' AND C_ID = '996'                                                                                                                                                                                                                                                                                                                                                                                                                                                                                                                                                   10956\n",
       "UPDATE oorder SET O_CARRIER_ID = '9' WHERE O_ID = '2218' AND O_D_ID = '10' AND O_W_ID = '1'                                                                                                                                                                                                                                                                                                                                                                                                                                                                                                                                                                                                               10956\n",
       "UPDATE order_line SET OL_DELIVERY_D = '2021-12-06 14:24:03.71' WHERE OL_O_ID = '2697' AND OL_D_ID = '4' AND OL_W_ID = '1'                                                                                                                                                                                                                                                                                                                                                                                                                                                                                                                                                                                 10956\n",
       "DELETE FROM new_order WHERE NO_O_ID = '2306' AND NO_D_ID = '6' AND NO_W_ID = '1'                                                                                                                                                                                                                                                                                                                                                                                                                                                                                                                                                                                                                          10956\n",
       "SELECT SUM(OL_AMOUNT) AS OL_TOTAL FROM order_line WHERE OL_O_ID = '2646' AND OL_D_ID = '6' AND OL_W_ID = '1'                                                                                                                                                                                                                                                                                                                                                                                                                                                                                                                                                                                              10956\n",
       "SELECT O_C_ID FROM oorder WHERE O_ID = '2554' AND O_D_ID = '6' AND O_W_ID = '1'                                                                                                                                                                                                                                                                                                                                                                                                                                                                                                                                                                                                                           10956\n",
       "SELECT NO_O_ID FROM new_order WHERE NO_D_ID = '9' AND NO_W_ID = '1' ORDER BY NO_O_ID ASC LIMIT 1                                                                                                                                                                                                                                                                                                                                                                                                                                                                                                                                                                                                          10956\n",
       "UPDATE customer SET C_BALANCE = '-3089.22998046875', C_YTD_PAYMENT = '3089.22998046875', C_PAYMENT_CNT = '3' WHERE C_W_ID = '1' AND C_D_ID = '7' AND C_ID = '382'                                                                                                                                                                                                                                                                                                                                                                                                                                                                                                                                         10453\n",
       "SELECT C_FIRST, C_MIDDLE, C_ID, C_STREET_1, C_STREET_2, C_CITY, C_STATE, C_ZIP, C_PHONE, C_CREDIT, C_CREDIT_LIM, C_DISCOUNT, C_BALANCE, C_YTD_PAYMENT, C_PAYMENT_CNT, C_SINCE FROM customer WHERE C_W_ID = '1' AND C_D_ID = '8' AND C_LAST = 'EINGBARPRES' ORDER BY C_FIRST                                                                                                                                                                                                                                                                                                                                                                                                                                7456\n",
       "SELECT C_FIRST, C_MIDDLE, C_LAST, C_STREET_1, C_STREET_2, C_CITY, C_STATE, C_ZIP, C_PHONE, C_CREDIT, C_CREDIT_LIM, C_DISCOUNT, C_BALANCE, C_YTD_PAYMENT, C_PAYMENT_CNT, C_SINCE FROM customer WHERE C_W_ID = '1' AND C_D_ID = '2' AND C_ID = '2179'                                                                                                                                                                                                                                                                                                                                                                                                                                                        5118\n",
       "SELECT D_NEXT_O_ID FROM district WHERE D_W_ID = '1' AND D_ID = '8'                                                                                                                                                                                                                                                                                                                                                                                                                                                                                                                                                                                                                                         1075\n",
       "SELECT COUNT(DISTINCT (S_I_ID)) AS STOCK_COUNT FROM order_line, stock WHERE OL_W_ID = '1' AND OL_D_ID = '10' AND OL_O_ID < '3377' AND OL_O_ID >= '3357' AND S_W_ID = '1' AND S_I_ID = OL_I_ID AND S_QUANTITY < '10'                                                                                                                                                                                                                                                                                                                                                                                                                                                                                        1075\n",
       "UPDATE customer SET C_BALANCE = '-2402.159912109375', C_YTD_PAYMENT = '2402.159912109375', C_PAYMENT_CNT = '2', C_DATA = '2565 7 1 2 1 2392.16 | kjyaraelvunrtplqpaqcosffqmmgqcyiyfbzflhnetyapjrevsbmifeakxkgipyxuyncomxtrazvvrsuorvmyawwkmarzmhhqmdwazwicicvvafqmoxwaxojhmxbshcezlvahqrrvidzoevsochvheedtyzzvbadussompkgqxzpgtbevejphbnmgahjkomztjgstkxlayurbprlwhvkomjbxpdjxlxuaovhywxzxwemseugtifxjtuioiyergsjcfiywemlbizofwxrhetxqaicfehljsbudfsxzarbnjxyuzwitafoxgzqcvyamndyvgtklbumywiqednttnuaavgiwawlgwlwyystzybjbbvgxshqyhiedejwurahhtxyqkrfpheiwzqfpfujdpzljxfftpikvyjrmpjjttyxokjzyjnpzdsjnbzmpnmgezytyoudpwpzqlhprmnaoifotkyqbsdop' WHERE C_W_ID = '1' AND C_D_ID = '7' AND C_ID = '2565'      1066\n",
       "SELECT C_DATA FROM customer WHERE C_W_ID = '1' AND C_D_ID = '5' AND C_ID = '2035'                                                                                                                                                                                                                                                                                                                                                                                                                                                                                                                                                                                                                          1066\n",
       "SELECT O_ID, O_CARRIER_ID, O_ENTRY_D FROM oorder WHERE O_W_ID = '1' AND O_D_ID = '1' AND O_C_ID = '2235' ORDER BY O_ID DESC LIMIT 1                                                                                                                                                                                                                                                                                                                                                                                                                                                                                                                                                                        1055\n",
       "SELECT OL_I_ID, OL_SUPPLY_W_ID, OL_QUANTITY, OL_AMOUNT, OL_DELIVERY_D FROM order_line WHERE OL_O_ID = '3006' AND OL_D_ID = '9' AND OL_W_ID = '1'                                                                                                                                                                                                                                                                                                                                                                                                                                                                                                                                                           1055\n",
       "dtype: int64"
      ]
     },
     "execution_count": 10,
     "metadata": {},
     "output_type": "execute_result"
    }
   ],
   "source": [
    "wg = WorkloadGenerator(preprocessor, assignment_df)\n",
    "wg.get_workload(cluster, result.sum())"
   ]
  },
  {
   "cell_type": "code",
   "execution_count": 11,
   "id": "f97818f9",
   "metadata": {},
   "outputs": [],
   "source": [
    "#workload.to_csv(\"predicted_workload.csv\")"
   ]
  }
 ],
 "metadata": {
  "interpreter": {
   "hash": "5b3ded1ccb95c1d9bd405e7b823d9e85424cde40fbb5985eb47e999ef50e15b4"
  },
  "kernelspec": {
   "display_name": "",
   "name": "python3"
  },
  "language_info": {
   "codemirror_mode": {
    "name": "ipython",
    "version": 3
   },
   "file_extension": ".py",
   "mimetype": "text/x-python",
   "name": "python",
   "nbconvert_exporter": "python",
   "pygments_lexer": "ipython3",
   "version": "3.8.10"
  }
 },
 "nbformat": 4,
 "nbformat_minor": 5
}
